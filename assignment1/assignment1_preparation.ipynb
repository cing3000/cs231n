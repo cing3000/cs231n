{
 "cells": [
  {
   "cell_type": "markdown",
   "metadata": {},
   "source": [
    "# Assignment 1 Preparation\n",
    "\n",
    "## How to start\n",
    "***\n",
    "- Setup conda environment\n",
    "- Download assignment package from http://cs231n.github.io/assignments/2018/spring1718_assignment1.zip\n",
    "- Unpack the assignment package\n",
    "- Download dataset by running `./get_datasets.sh` in `<assignment_home>/cs231n/datasets/` or download directly from http://www.cs.toronto.edu/~kriz/cifar-10-python.tar.gz if in MS Windows, and unzip it to current folder\n",
    "- Run jupyter notebook in `<assignment_home>`\n",
    "- Start with `knn.ipynb`"
   ]
  },
  {
   "cell_type": "markdown",
   "metadata": {},
   "source": [
    "## A little linear algebra\n",
    "***\n",
    "\n",
    "### Addition and subtraction\n",
    "Two matrices can only be added or subtracted if they have <font color=red>__the same size__</font>. Matrix addition and subtraction are done entry-wise, which means that each entry in A+B is the sum of the corresponding entries in A and B.\n",
    "$$ A=\\begin{bmatrix} 7 & 5 & 3 \\\\ 4 & 0 & 5 \\end{bmatrix} \\qquad B=\\begin{bmatrix} 1 & 1 & 1 \\\\ -1 & 3 & 2 \\end{bmatrix}$$\n",
    "\n",
    "$$ A+B=\\begin{bmatrix} 7+1 & 5+1 & 3+1 \\\\ 4-1 & 0+3 & 5+2\\end{bmatrix}=\\begin{bmatrix}8 & 6 & 4 \\\\ 3 & 3 & 7 \\end{bmatrix}$$\n",
    "\n",
    "$$ A-B=\\begin{bmatrix} 7-1 & 5-1 & 3-1 \\\\ 4-(-1) & 0-3 & 5-2\\end{bmatrix}=\\begin{bmatrix}6 & 4 & 2 \\\\ 5 & -3 & 3 \\end{bmatrix}$$\n",
    "\n",
    "The following rules applies to sums and scalar multiples of matrices.\n",
    "\n",
    "Let $A,B,C$ be matrices of the same size, and let $r,s$ be scalars.\n",
    "- $A+B=B+A$\n",
    "- $(A+B)+C=A+(B+C)$\n",
    "- $A+0=A$\n",
    "- $r(A+B)=rA+rB$\n",
    "- $(r+s)A=rA+sA$\n",
    "- $r(sA)=(rs)A$\n",
    "\n",
    "### Multiplication\n",
    "What is matrix multiplication? You can multiply two matrices if, and only if, <font color=red>__the number of columns in the first matrix equals the number of rows in the second matrix__</font>.\n",
    "\n",
    "Otherwise, the product of two matrices is undefined.\n",
    "\n",
    "$$A=\\begin{bmatrix}a_{11} & a_{12} & a_{13} \\\\ a_{21} & a_{22} & a_{23}\\end{bmatrix} \\qquad B=\\begin{bmatrix}b_{11} & b_{12}\\\\b_{21}&b_{22}\\\\b_{31}&b_{32}\\end{bmatrix} $$\n",
    "\n",
    "$$ A\\cdot B=\\begin{bmatrix}a_{11}\\times b_{11}+a_{12}\\times b_{21}+a_{13}\\times b_{31} & a_{11}\\times b_{12}+a_{12}\\times b_{22}+a_{13}\\times b_{23} \\\\ a_{21}\\times b_{11}+a_{22}\\times b_{21}+a_{23}\\times b_{31} & a_{21}\\times b_{12}+a_{22}\\times b_{22}+a_{23}\\times b_{23} \\end{bmatrix}$$\n",
    "\n",
    "$$ B \\cdot A=undefined$$\n",
    "\n",
    "The product matrix's dimensions are $(\\text{rows in first matrix}) \\times (\\text{columns of the second matrix})$\n",
    "\n",
    "### Transpose\n",
    "Given the $m \\times n$ matrix $A$, the __transpose__ of $A$ is the $n \\times m$, denoted $A^T$, whose columns are formed from the corresponding rows of $A$. \n"
   ]
  },
  {
   "cell_type": "markdown",
   "metadata": {},
   "source": [
    "## NumPy\n",
    "***\n",
    "\n",
    "NumPy Reference: https://docs.scipy.org/doc/numpy/reference/\n",
    "\n",
    "### Use numpy for most array, vector or matrix calculation\n",
    "\n",
    "NumPy is the fundamental package for scientific computing with Python. It contains among other things:\n",
    "\n",
    "- a powerful N-dimensional array object\n",
    "- sophisticated (broadcasting) functions\n",
    "- tools for integrating C/C++ and Fortran code\n",
    "- useful linear algebra, Fourier transform, and random number capabilities\n",
    "\n",
    "Besides its obvious scientific uses, NumPy can also be used as an efficient multi-dimensional container of generic data. Arbitrary data-types can be defined. This allows NumPy to seamlessly and speedily integrate with a wide variety of databases.\n",
    "\n",
    "### Data Type: list (python array), tuple, np.ndarray (numpy array)"
   ]
  },
  {
   "cell_type": "code",
   "execution_count": 59,
   "metadata": {},
   "outputs": [
    {
     "name": "stdout",
     "output_type": "stream",
     "text": [
      "[[1, 2, 3], [4, 5, 6]]\n",
      "type of A: <class 'list'>\n",
      "\n",
      "[[1 4 7]\n",
      " [2 5 8]\n",
      " [3 6 9]]\n",
      "type of B: <class 'numpy.ndarray'>\n",
      "\n",
      "(3, 3)\n",
      "type of B.shape: <class 'tuple'>\n",
      "1\n",
      "2\n"
     ]
    }
   ],
   "source": [
    "import numpy as np\n",
    "\n",
    "A = [[1,2,3],[4,5,6]]\n",
    "print(A)\n",
    "print(\"type of A: %s\" % type(A))\n",
    "print()\n",
    "\n",
    "B = np.array([[1,4,7],[2,5,8],[3,6,9]])\n",
    "print(B)\n",
    "print(\"type of B: %s\" % type(B))\n",
    "print()\n",
    "\n",
    "print(B.shape)\n",
    "print(\"type of B.shape: %s\" % type(B.shape))"
   ]
  },
  {
   "cell_type": "markdown",
   "metadata": {},
   "source": [
    "### Two ways to use numpy when doing matrix calculation"
   ]
  },
  {
   "cell_type": "code",
   "execution_count": 60,
   "metadata": {},
   "outputs": [
    {
     "name": "stdout",
     "output_type": "stream",
     "text": [
      "Method I:\n",
      "[[ 14  32  50]\n",
      " [ 32  77 122]]\n",
      "\n",
      "Method II:\n",
      "[[ 14  32  50]\n",
      " [ 32  77 122]]\n",
      "\n",
      "Just a test:\n"
     ]
    },
    {
     "ename": "ValueError",
     "evalue": "shapes (3,3) and (2,3) not aligned: 3 (dim 1) != 2 (dim 0)",
     "output_type": "error",
     "traceback": [
      "\u001b[1;31m---------------------------------------------------------------------------\u001b[0m",
      "\u001b[1;31mValueError\u001b[0m                                Traceback (most recent call last)",
      "\u001b[1;32m<ipython-input-60-4f8cf4976ed1>\u001b[0m in \u001b[0;36m<module>\u001b[1;34m()\u001b[0m\n\u001b[0;32m      9\u001b[0m \u001b[0mprint\u001b[0m\u001b[1;33m(\u001b[0m\u001b[1;33m)\u001b[0m\u001b[1;33m\u001b[0m\u001b[0m\n\u001b[0;32m     10\u001b[0m \u001b[0mprint\u001b[0m\u001b[1;33m(\u001b[0m\u001b[1;34m\"Just a test:\"\u001b[0m\u001b[1;33m)\u001b[0m\u001b[1;33m\u001b[0m\u001b[0m\n\u001b[1;32m---> 11\u001b[1;33m \u001b[0mprint\u001b[0m\u001b[1;33m(\u001b[0m\u001b[0mnp\u001b[0m\u001b[1;33m.\u001b[0m\u001b[0mdot\u001b[0m\u001b[1;33m(\u001b[0m\u001b[0mB\u001b[0m\u001b[1;33m,\u001b[0m \u001b[0mA\u001b[0m\u001b[1;33m)\u001b[0m\u001b[1;33m)\u001b[0m\u001b[1;33m\u001b[0m\u001b[0m\n\u001b[0m",
      "\u001b[1;31mValueError\u001b[0m: shapes (3,3) and (2,3) not aligned: 3 (dim 1) != 2 (dim 0)"
     ]
    }
   ],
   "source": [
    "A = np.array([[1,2,3], [4,5,6]])\n",
    "B = np.array([[1,4,7],[2,5,8],[3,6,9]])\n",
    "\n",
    "print(\"Method I:\")\n",
    "print(np.dot(A, B))\n",
    "print()\n",
    "print(\"Method II:\")\n",
    "print(A.dot(B))\n",
    "print()\n",
    "print(\"Just a test:\")\n",
    "print(np.dot(B, A))"
   ]
  },
  {
   "cell_type": "code",
   "execution_count": 9,
   "metadata": {},
   "outputs": [
    {
     "name": "stdout",
     "output_type": "stream",
     "text": [
      "[[30 66]\n",
      " [36 81]\n",
      " [42 96]]\n"
     ]
    }
   ],
   "source": [
    "print(np.dot(B, A.T))"
   ]
  },
  {
   "cell_type": "markdown",
   "metadata": {},
   "source": [
    "### Shape\n",
    "A tuple is an (immutable) ordered list of values.\n",
    "\n",
    "Shape is a tuple of number of elements in each dimensions of an array(matrix)."
   ]
  },
  {
   "cell_type": "code",
   "execution_count": 61,
   "metadata": {},
   "outputs": [
    {
     "name": "stdout",
     "output_type": "stream",
     "text": [
      "(2, 3)\n",
      "(3, 3)\n",
      "(2, 3)\n"
     ]
    }
   ],
   "source": [
    "print(A.shape)\n",
    "print(B.shape)\n",
    "print(np.dot(A, B).shape)"
   ]
  },
  {
   "cell_type": "markdown",
   "metadata": {},
   "source": [
    "### Broadcasting\n",
    "The term broadcasting describes how numpy treats arrays with different shapes during arithmetic operations. Subject to certain constraints, the smaller array is “broadcast” across the larger array so that they have compatible shapes.\n",
    "\n",
    "Broadcasting provides a means of vectorizing array operations so that looping occurs in C instead of Python. It does this without making needless copies of data and usually leads to efficient algorithm implementations.\n",
    "\n",
    "An example:\n",
    "\n",
    "$$A=\\begin{bmatrix}a_{11} & a_{12} \\\\ a_{21} & a_{22} \\\\ a_{31}&a_{32}\\end{bmatrix} \\qquad B=\\begin{bmatrix}b_{11} & b_{12}\\end{bmatrix} \\qquad A+B=?$$\n",
    "\n",
    "$$A+B=\\begin{bmatrix}a_{11} & a_{12} \\\\ a_{21} & a_{22} \\\\ a_{31}&a_{32}\\end{bmatrix}+\\begin{bmatrix}b_{11} & b_{12}\\\\b_{11} & b_{12}\\\\b_{11} & b_{12}\\end{bmatrix}=\\begin{bmatrix}a_{11}+b_{11} & a_{12}+b_{12} \\\\ a_{21}+b_{11} & a_{22}+b_{12} \\\\ a_{31}+b_{11}&a_{32}+b_{12}\\end{bmatrix} $$\n",
    "\n",
    "#### General Broadcasting Rules\n",
    "When operating on two arrays, NumPy compares their shapes element-wise. It starts with the trailing dimensions, and works its way forward. Two dimensions are compatible when:\n",
    "1. they are equal, or\n",
    "1. one of them is 1\n",
    "\n",
    "More examples:\n",
    "\n",
    "```\n",
    "A      (4d array):  8 x 1 x 6 x 1\n",
    "B      (3d array):      7 x 1 x 5\n",
    "result (4d array):  8 x 7 x 6 x 5\n",
    "\n",
    "A      (2d array):  5 x 4\n",
    "B      (1d array):      1\n",
    "Result (2d array):  5 x 4\n",
    "\n",
    "A      (2d array):  5 x 4\n",
    "B      (1d array):      4\n",
    "Result (2d array):  5 x 4\n",
    "\n",
    "A      (3d array):  15 x 3 x 5\n",
    "B      (3d array):  15 x 1 x 5\n",
    "Result (3d array):  15 x 3 x 5\n",
    "\n",
    "A      (3d array):  15 x 3 x 5\n",
    "B      (2d array):       3 x 5\n",
    "Result (3d array):  15 x 3 x 5\n",
    "\n",
    "A      (3d array):  15 x 3 x 5\n",
    "B      (2d array):       3 x 1\n",
    "Result (3d array):  15 x 3 x 5\n",
    "```"
   ]
  },
  {
   "cell_type": "code",
   "execution_count": 24,
   "metadata": {},
   "outputs": [
    {
     "name": "stdout",
     "output_type": "stream",
     "text": [
      "A.shape: (2, 3)\n",
      "B.shape: (3, 3)\n",
      "C.shape: (1, 3)\n",
      "B+C= (3, 3)\n",
      "[[ 2  6 10]\n",
      " [ 3  7 11]\n",
      " [ 4  8 12]]\n",
      "\n",
      "A+B=\n"
     ]
    },
    {
     "ename": "ValueError",
     "evalue": "operands could not be broadcast together with shapes (2,3) (3,3) ",
     "output_type": "error",
     "traceback": [
      "\u001b[1;31m---------------------------------------------------------------------------\u001b[0m",
      "\u001b[1;31mValueError\u001b[0m                                Traceback (most recent call last)",
      "\u001b[1;32m<ipython-input-24-e1daab3f3109>\u001b[0m in \u001b[0;36m<module>\u001b[1;34m()\u001b[0m\n\u001b[0;32m      7\u001b[0m \u001b[0mprint\u001b[0m\u001b[1;33m(\u001b[0m\u001b[1;33m)\u001b[0m\u001b[1;33m\u001b[0m\u001b[0m\n\u001b[0;32m      8\u001b[0m \u001b[0mprint\u001b[0m\u001b[1;33m(\u001b[0m\u001b[1;34m\"A+B=\"\u001b[0m\u001b[1;33m)\u001b[0m\u001b[1;33m\u001b[0m\u001b[0m\n\u001b[1;32m----> 9\u001b[1;33m \u001b[0mprint\u001b[0m\u001b[1;33m(\u001b[0m\u001b[0mA\u001b[0m\u001b[1;33m+\u001b[0m\u001b[0mB\u001b[0m\u001b[1;33m)\u001b[0m\u001b[1;33m\u001b[0m\u001b[0m\n\u001b[0m",
      "\u001b[1;31mValueError\u001b[0m: operands could not be broadcast together with shapes (2,3) (3,3) "
     ]
    }
   ],
   "source": [
    "C = np.array([[1,2,3]])\n",
    "print(\"A.shape: %s\" % (A.shape,))\n",
    "print(\"B.shape: %s\" % (B.shape,))\n",
    "print(\"C.shape: %s\" % (C.shape,))\n",
    "print(\"B+C= %s\" %((B+C).shape, ))\n",
    "print(B+C)\n",
    "print()\n",
    "print(\"A+B=\")\n",
    "print(A+B)\n"
   ]
  },
  {
   "cell_type": "markdown",
   "metadata": {},
   "source": [
    "### Indices"
   ]
  },
  {
   "cell_type": "code",
   "execution_count": 48,
   "metadata": {},
   "outputs": [
    {
     "name": "stdout",
     "output_type": "stream",
     "text": [
      "[ 0  2  4  6  8 10 12 14 16 18]\n",
      "\n",
      "D[8]=16\n",
      "\n",
      "D[[1,3,5]]=[ 2  6 10]\n",
      "\n",
      "B=[[1 4 7]\n",
      " [2 5 8]\n",
      " [3 6 9]]\n",
      "\n",
      "B[:, 1]=[4 5 6]\n",
      "\n",
      "B after B[range(3), 1]=10: \n",
      "[[ 1 10  7]\n",
      " [ 2 10  8]\n",
      " [ 3 10  9]]\n",
      "\n",
      "B after B[:, [1,2]]=10: \n",
      "[[ 1 10 10]\n",
      " [ 2 10 10]\n",
      " [ 3 10 10]]\n",
      "\n",
      "B after B[:, [1,2]]=10: \n",
      "[[10  4  7]\n",
      " [ 2 10  8]\n",
      " [ 3  6 10]]\n"
     ]
    }
   ],
   "source": [
    "D = np.array(range(10))\n",
    "D *= 2\n",
    "print(D)\n",
    "print()\n",
    "print(\"D[8]=%s\" % (D[8]))\n",
    "print()\n",
    "print(\"D[[1,3,5]]=%s\" % (D[[1,3,5]]))\n",
    "print()\n",
    "B = np.array([[1,4,7],[2,5,8],[3,6,9]])\n",
    "print(\"B=%s\" % B)\n",
    "print()\n",
    "print(\"B[:, 1]=%s\" % B[:, 1])\n",
    "print()\n",
    "E = np.copy(B)\n",
    "E[:, 1] = 10\n",
    "print(\"B after B[:, 1]=10: \\n%s\" % E)\n",
    "print()\n",
    "F = np.copy(B)\n",
    "F[:, [1, 2]] = 10\n",
    "print(\"B after B[:, [1,2]]=10: \\n%s\" % F)\n",
    "print()\n",
    "G = np.copy(B)\n",
    "G[[0,1,2], [0,1,2]] = 10\n",
    "print(\"B after B[:, [1,2]]=10: \\n%s\" % G)"
   ]
  },
  {
   "cell_type": "code",
   "execution_count": null,
   "metadata": {},
   "outputs": [],
   "source": []
  }
 ],
 "metadata": {
  "kernelspec": {
   "display_name": "Python 3",
   "language": "python",
   "name": "python3"
  },
  "language_info": {
   "codemirror_mode": {
    "name": "ipython",
    "version": 3
   },
   "file_extension": ".py",
   "mimetype": "text/x-python",
   "name": "python",
   "nbconvert_exporter": "python",
   "pygments_lexer": "ipython3",
   "version": "3.6.3"
  }
 },
 "nbformat": 4,
 "nbformat_minor": 2
}
